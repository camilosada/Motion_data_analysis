{
 "cells": [
  {
   "source": [
    "# Repeating rows analysis"
   ],
   "cell_type": "markdown",
   "metadata": {}
  },
  {
   "cell_type": "code",
   "execution_count": 1,
   "metadata": {},
   "outputs": [],
   "source": [
    "import pandas as pd "
   ]
  },
  {
   "cell_type": "code",
   "execution_count": 2,
   "metadata": {
    "tags": []
   },
   "outputs": [
    {
     "output_type": "execute_result",
     "data": {
      "text/plain": "(111296, 22)"
     },
     "metadata": {},
     "execution_count": 2
    }
   ],
   "source": [
    "filePath = ''\n",
    "MetaData_original = pd.read_csv(filePath + '/.csv')\n",
    "MetaData_original.shape"
   ]
  },
  {
   "cell_type": "code",
   "execution_count": null,
   "metadata": {},
   "outputs": [],
   "source": [
    "MetaData_original.head()"
   ]
  },
  {
   "source": [
    "## I take only the files with at least 1 remote sensor"
   ],
   "cell_type": "markdown",
   "metadata": {}
  },
  {
   "cell_type": "code",
   "execution_count": 4,
   "metadata": {},
   "outputs": [
    {
     "output_type": "execute_result",
     "data": {
      "text/plain": "(74884, 22)"
     },
     "metadata": {},
     "execution_count": 4
    }
   ],
   "source": [
    "MetaData = MetaData_original[MetaData_original['Number of Remote Sensors']>0]\n",
    "MetaData.shape"
   ]
  },
  {
   "source": [
    "## See how many duplicated rows there are"
   ],
   "cell_type": "markdown",
   "metadata": {}
  },
  {
   "cell_type": "code",
   "execution_count": 6,
   "metadata": {},
   "outputs": [
    {
     "output_type": "execute_result",
     "data": {
      "text/plain": "(3783, 22)"
     },
     "metadata": {},
     "execution_count": 6
    }
   ],
   "source": [
    "MD_select_duplicates = MetaData.duplicated(subset=None, keep='first') # i keep the first duplicated row\n",
    "MD_duplicates = MetaData[MD_select_duplicates]\n",
    "MD_duplicates.shape"
   ]
  },
  {
   "source": [
    "## How many no repeated rows there are"
   ],
   "cell_type": "markdown",
   "metadata": {}
  },
  {
   "cell_type": "code",
   "execution_count": 8,
   "metadata": {},
   "outputs": [
    {
     "output_type": "execute_result",
     "data": {
      "text/plain": "(71101, 22)"
     },
     "metadata": {},
     "execution_count": 8
    }
   ],
   "source": [
    "MD_NOduplicates= MetaData.drop_duplicates(keep = 'first') # I keep only the first repeated row\n",
    "MD_NOduplicates.shape"
   ]
  },
  {
   "source": [
    "## I see if there are duplicates only in column 'Identifier' "
   ],
   "cell_type": "markdown",
   "metadata": {}
  },
  {
   "cell_type": "code",
   "execution_count": 9,
   "metadata": {},
   "outputs": [
    {
     "output_type": "execute_result",
     "data": {
      "text/plain": "(3783, 22)"
     },
     "metadata": {},
     "execution_count": 9
    }
   ],
   "source": [
    "MD_select_duplicates_Identifier = MetaData.duplicated(subset=['Identifier'], keep='first')\n",
    "MD_duplicates_Identifier = MetaData[MD_select_duplicates_Identifier]\n",
    "MD_duplicates_Identifier.shape"
   ]
  },
  {
   "source": [
    "## I see if there are duplicates only in column  'UserID'"
   ],
   "cell_type": "markdown",
   "metadata": {}
  },
  {
   "cell_type": "code",
   "execution_count": 10,
   "metadata": {},
   "outputs": [
    {
     "output_type": "execute_result",
     "data": {
      "text/plain": "(16947, 22)"
     },
     "metadata": {},
     "execution_count": 10
    }
   ],
   "source": [
    "MD_select_duplicates_User = MetaData.duplicated(subset=['UserID'], keep='first')\n",
    "MD_duplicates_User = MetaData[MD_select_duplicates_User]\n",
    "MD_duplicates_User.shape"
   ]
  },
  {
   "cell_type": "code",
   "execution_count": 44,
   "metadata": {},
   "outputs": [
    {
     "output_type": "execute_result",
     "data": {
      "text/plain": "57937"
     },
     "metadata": {},
     "execution_count": 44
    }
   ],
   "source": [
    "len(MetaData['UserID'].unique())"
   ]
  },
  {
   "source": [
    "## See if the identifiers repeated are the same that the completed rows repeated"
   ],
   "cell_type": "markdown",
   "metadata": {}
  },
  {
   "cell_type": "code",
   "execution_count": null,
   "metadata": {},
   "outputs": [],
   "source": [
    "# I can see that the Identifiers repeated are those with all rows values repeated\n",
    "dataTest = MD_duplicates\n",
    "dataTest.append(MD_duplicates_Identifier).drop_duplicates(keep = False) # keep = false-> delet all repeated rows"
   ]
  },
  {
   "source": [
    "## See if repeated Users has all the same columns values "
   ],
   "cell_type": "markdown",
   "metadata": {}
  },
  {
   "cell_type": "code",
   "execution_count": 60,
   "metadata": {},
   "outputs": [
    {
     "output_type": "execute_result",
     "data": {
      "text/plain": "Empty DataFrame\nColumns: [Identifier, UserID]\nIndex: []",
      "text/html": "<div>\n<style scoped>\n    .dataframe tbody tr th:only-of-type {\n        vertical-align: middle;\n    }\n\n    .dataframe tbody tr th {\n        vertical-align: top;\n    }\n\n    .dataframe thead th {\n        text-align: right;\n    }\n</style>\n<table border=\"1\" class=\"dataframe\">\n  <thead>\n    <tr style=\"text-align: right;\">\n      <th></th>\n      <th>Identifier</th>\n      <th>UserID</th>\n    </tr>\n  </thead>\n  <tbody>\n  </tbody>\n</table>\n</div>"
     },
     "metadata": {},
     "execution_count": 60
    }
   ],
   "source": [
    "MD_select_all_duplicates_User = MD_NOduplicates.duplicated(subset=['UserID'], keep=False) # i take all duplicated Users\n",
    "MD_all_duplicates_User = MD_NOduplicates[MD_select_all_duplicates_User]\n",
    "MD_some_repeated_User = MD_all_duplicates_User[['Identifier','UserID']].drop_duplicates(keep = False) # I delete all users with the same Identifier, so i obtein repeated users with diferents Identifiers\n",
    "MD_SameUser_diffIdentifier = MD_some_repeated_User['UserID'].drop_duplicates(keep='first') # I take only 1 of the repeate user\n",
    "MD_some_repeated_User[MD_some_repeated_User.duplicated()] \n",
    "# I can see that there are repeated users with diferents columns values"
   ]
  },
  {
   "cell_type": "code",
   "execution_count": 61,
   "metadata": {},
   "outputs": [
    {
     "output_type": "execute_result",
     "data": {
      "text/plain": "(24598, 2)"
     },
     "metadata": {},
     "execution_count": 61
    }
   ],
   "source": [
    "MD_some_repeated_User_sort = MD_some_repeated_User.sort_values('UserID')\n",
    "MD_some_repeated_User_sort.shape"
   ]
  },
  {
   "source": [
    "### Search the number of Identifiers that correspond to one UserID"
   ],
   "cell_type": "markdown",
   "metadata": {}
  },
  {
   "cell_type": "code",
   "execution_count": 63,
   "metadata": {},
   "outputs": [
    {
     "output_type": "execute_result",
     "data": {
      "text/plain": "57937"
     },
     "metadata": {},
     "execution_count": 63
    }
   ],
   "source": [
    "grouped = MD_NOduplicates[['Identifier', 'UserID']].groupby('UserID').count()\n",
    "##### groupby me genera objetos tipo groupby\n",
    "#grouped.groups\n",
    "len(grouped) # con esto se el numero de grupos, osea que tengo esa cantidad de usuarios repetidos"
   ]
  },
  {
   "source": [
    "# Let's see some graphics"
   ],
   "cell_type": "markdown",
   "metadata": {}
  },
  {
   "cell_type": "code",
   "execution_count": 17,
   "metadata": {},
   "outputs": [],
   "source": [
    "import matplotlib.pyplot as plt\n",
    "import numpy as np "
   ]
  },
  {
   "cell_type": "code",
   "execution_count": 65,
   "metadata": {},
   "outputs": [],
   "source": [
    "x_axis= 'Data'\n",
    "x_values=['ç']\n",
    "y_axis = 'Number of rows'\n",
    "y_values = [MetaData_original.shape[0], MetaData.shape[0],MD_NOduplicates.shape[0], MD_duplicates.shape[0], MD_duplicates_Identifier.shape[0], len(grouped), MD_SameUser_diffIdentifier.shape[0]]"
   ]
  },
  {
   "cell_type": "code",
   "execution_count": null,
   "metadata": {},
   "outputs": [],
   "source": [
    "plt.figure(figsize=(12, 8))\n",
    "ax = (pd.Series(y_values)).plot(kind='bar')\n",
    "#ax.set_title(\"Amount Frequency\")\n",
    "ax.set_xlabel(x_axis)\n",
    "ax.set_ylabel(y_axis)\n",
    "ax.set_xticklabels(x_values)\n",
    "rects = ax.patches\n",
    "\n",
    "# Now make some labels\n",
    "labels = y_values\n",
    "\n",
    "for rect, label in zip(rects, labels):\n",
    "       height = rect.get_height()\n",
    "       ax.text(rect.get_x() + rect.get_width()/2, height + 5, label, ha='center', va='bottom')"
   ]
  }
 ],
 "metadata": {
  "kernelspec": {
   "display_name": "Python 3",
   "language": "python",
   "name": "python3"
  },
  "language_info": {
   "codemirror_mode": {
    "name": "ipython",
    "version": 3
   },
   "file_extension": ".py",
   "mimetype": "text/x-python",
   "name": "python",
   "nbconvert_exporter": "python",
   "pygments_lexer": "ipython3",
   "version": "3.8.3-final"
  }
 },
 "nbformat": 4,
 "nbformat_minor": 2
}