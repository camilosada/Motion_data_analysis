{
 "metadata": {
  "language_info": {
   "codemirror_mode": {
    "name": "ipython",
    "version": 3
   },
   "file_extension": ".py",
   "mimetype": "text/x-python",
   "name": "python",
   "nbconvert_exporter": "python",
   "pygments_lexer": "ipython3",
   "version": "3.8.3-final"
  },
  "orig_nbformat": 2,
  "kernelspec": {
   "name": "python3",
   "display_name": "Python 3"
  }
 },
 "nbformat": 4,
 "nbformat_minor": 2,
 "cells": [
  {
   "cell_type": "code",
   "execution_count": 2,
   "metadata": {},
   "outputs": [],
   "source": [
    "import numpy as np\n",
    "import pandas as pd\n",
    "import matplotlib.pyplot as plt\n",
    "import matplotlib.dates as mdates\n",
    "import seaborn as sns"
   ]
  },
  {
   "cell_type": "code",
   "execution_count": null,
   "metadata": {},
   "outputs": [],
   "source": [
    "# All year mean sensors activation 1,2,3,4 occupants, remot sensors >= 3\n",
    "path1 = 'p.csv'\n",
    "path2 = \n",
    "path3 = '\n",
    "path4 = '\n",
    "df1=pd.read_csv(path1).drop('Unnamed: 0', axis=1).set_index('dayofweek')\n",
    "df2=pd.read_csv(path2).drop('Unnamed: 0', axis=1).set_index('dayofweek')\n",
    "df3=pd.read_csv(path3).drop('Unnamed: 0', axis=1).set_index('dayofweek')\n",
    "df4=pd.read_csv(path4).drop('Unnamed: 0', axis=1).set_index('dayofweek')\n",
    "ç\n",
    "days = ['Monday', 'Tuesday', 'Wednesday', 'Thursday', 'Friday', 'Saturday','Sunday']\n",
    "\n",
    "vmin2 = 0\n",
    "vmax2 = max(df1.T.max().max(), df2.T.max().max(), df3.T.max().max(), df4.T.max().max())\n",
    "f4,[ax1,ax2,ax3,ax4] = plt.subplots(4,1,figsize=(20,10),sharex=True)\n",
    "\n",
    "sns.heatmap(df1.reindex(days), cmap='viridis',ax=ax1,cbar=True,vmin=vmin2,vmax=vmax2)\n",
    "ax1.set_title('All year 1 Occupant')\n",
    "\n",
    "sns.heatmap(df2.reindex(days), cmap='viridis',ax = ax2,cbar=True,vmin=vmin2,vmax=vmax2)\n",
    "ax2.set_title('All year 2 Occupant')\n",
    "\n",
    "sns.heatmap(df3.reindex(days), cmap='viridis',ax=ax3,cbar=True,vmin=vmin2,vmax=vmax2)\n",
    "ax3.set_title('All year 3 Occupant')\n",
    "\n",
    "sns.heatmap(df4.reindex(days), cmap='viridis',ax=ax4,vmin=vmin2,vmax=vmax2)\n",
    "ax4.set_title('All year 4 Occupant')"
   ]
  },
  {
   "cell_type": "code",
   "execution_count": null,
   "metadata": {},
   "outputs": [],
   "source": [
    "plt.figure()\n",
    "pd.concat([df1all,df2all,df3all,df4all]).T[['Monday']].plot(figsize=(24, 5))\n",
    "pd.concat([df1au,df2au,df3au,df4au]).T[['Monday']].plot(figsize=(24, 5))\n",
    "pd.concat([df1sp,df2sp,df3sp,df4sp]).T[['Wednesday']].plot(figsize=(24, 5))\n",
    "pd.concat([df1,df2,df3,df4]).T[['Saturday']].plot(figsize=(24, 5))\n",
    "pd.concat([df1,df2,df3,df4]).T[['Sunday']].plot(figsize=(24, 5))"
   ]
  }
 ]
}