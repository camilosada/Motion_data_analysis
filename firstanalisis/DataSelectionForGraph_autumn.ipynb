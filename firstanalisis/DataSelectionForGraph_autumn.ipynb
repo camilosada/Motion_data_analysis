{
 "metadata": {
  "language_info": {
   "codemirror_mode": {
    "name": "ipython",
    "version": 3
   },
   "file_extension": ".py",
   "mimetype": "text/x-python",
   "name": "python",
   "nbconvert_exporter": "python",
   "pygments_lexer": "ipython3",
   "version": "3.8.3-final"
  },
  "orig_nbformat": 2,
  "kernelspec": {
   "name": "python3",
   "display_name": "Python 3"
  }
 },
 "nbformat": 4,
 "nbformat_minor": 2,
 "cells": [
  {
   "cell_type": "code",
   "execution_count": 1,
   "metadata": {},
   "outputs": [],
   "source": [
    "from pathlib import Path\n",
    "import dask.dataframe as dd\n",
    "import numpy as np\n",
    "import datetime"
   ]
  },
  {
   "cell_type": "code",
   "execution_count": 2,
   "metadata": {},
   "outputs": [],
   "source": [
    "# loading metadata file\n",
    "filePath = 'path'\n",
    "df = dd.read_csv(filePath + 'a.csv').drop_duplicates()\n",
    "\n",
    "# Pre-processing to filter out inconsistent data\n",
    "df = df[df['Number of Occupants'] < df['Number of Occupants'].quantile(.999)]\n",
    "df = df[df['Number of Floors'] < df['Number of Floors'].quantile(.999)]\n",
    "df = df[df['Floor Area [ft2]'] < df['Floor Area [ft2]'].quantile(.999)]\n",
    "df = df[df['Number of Remote Sensors'] < df['Number of Remote Sensors'].quantile(.999)]"
   ]
  },
  {
   "cell_type": "code",
   "execution_count": 3,
   "metadata": {},
   "outputs": [],
   "source": [
    "\n",
    "lista = []\n",
    "# List all files in directory using pathlib\n",
    "basepath = Path(\"e/\")\n",
    "files_in_basepath = (entry for entry in basepath.iterdir() if entry.is_file())\n",
    "for item in files_in_basepath:\n",
    "    lista.append(item.name)"
   ]
  },
  {
   "cell_type": "code",
   "execution_count": 4,
   "metadata": {},
   "outputs": [],
   "source": [
    "lista_FileName = [s.replace('.csv', '') for s in lista]  # to have only the name of the file\n",
    "df_in_2019 = df[df.Identifier.isin(lista_FileName)]"
   ]
  },
  {
   "cell_type": "code",
   "execution_count": 5,
   "metadata": {},
   "outputs": [
    {
     "output_type": "stream",
     "name": "stdout",
     "text": [
      "(946, 22)\n",
      "(3939, 22)\n",
      "(2506, 22)\n",
      "(2879, 22)\n"
     ]
    }
   ],
   "source": [
    "df1 = df_in_2019[(df_in_2019['Number of Occupants'] == 1 ) & (df_in_2019['Number of Remote Sensors'] >= 3)]"
   ]
  },
  {
   "cell_type": "code",
   "execution_count": 6,
   "metadata": {},
   "outputs": [],
   "source": [
    "use_cols = [cols]\n",
    "mainPath ='path'"
   ]
  },
  {
   "cell_type": "code",
   "execution_count": 7,
   "metadata": {},
   "outputs": [],
   "source": [
    "# autumn\n",
    "start_date= datetime.datetime.strptime('2019-09-21','%Y-%m-%d')\n",
    "end_date = datetime.datetime.strptime('2019-12-21','%Y-%m-%d')"
   ]
  },
  {
   "cell_type": "code",
   "execution_count": 8,
   "metadata": {},
   "outputs": [],
   "source": [
    "##### DF1\n",
    "\n",
    "# Take all Identifiers of df, to after open them\n",
    "a=df1.loc[:,'Identifier'].compute().tolist()\n",
    "lista=[]\n",
    "for i in a:\n",
    "    lista.append(mainPath+i+'.csv')\n",
    "# Read all files \n",
    "ff=dd.read_csv(lista, usecols = use_cols, parse_dates=['DateTime'], include_path_column=True)\n",
    "ff['path']=ff['path'].str.replace('F:/2019_unzipped_complete/', '')\n",
    "ff['path']=ff['path'].str.replace('.csv', '')\n",
    "\n",
    "# Manage of columns\n",
    "ff['activation'] = ff.loc[:, ff.columns.str.contains('_Motion')].sum(axis=1) # sumo cantidad de rs en 1\n",
    "ff['dayofweek']=ff['DateTime'].dt.day_name()\n",
    "ff['Time'] = ff['DateTime'].dt.time\n",
    "ff['Month'] = ff['DateTime'].dt.month\n",
    "\n",
    "ff_columns = ['path', 'activation', 'dayofweek', 'Time', 'Month','DateTime']\n",
    "result = dd.merge(df1[['Identifier','Number of Remote Sensors']], ff[ff_columns], left_on='Identifier', right_on='path').drop(['path'],axis=1)\n",
    "result['mean_activation']=result['activation']/(result['Number of Remote Sensors']+1) # +1 counting sensor of thermostat\n",
    "result=result[(result['DateTime'] >= start_date) & (result['DateTime']< end_date)]\n",
    "\n",
    "aa=result[['dayofweek','Time','mean_activation']].groupby(['Time','dayofweek']).mean()\n",
    "pp=dd.from_array(aa.to_records()) \n",
    "\n",
    "bb = pp.categorize(columns='Time')\n",
    "table = dd.pivot_table(bb, values='mean_activation', index='dayofweek', columns='Time')\n",
    "\n",
    "t=dd.from_array(table.to_records())\n",
    "(t.compute()).to_csv('.csv')"
   ]
  },
  {
   "cell_type": "code",
   "execution_count": null,
   "metadata": {},
   "outputs": [],
   "source": []
  }
 ]
}