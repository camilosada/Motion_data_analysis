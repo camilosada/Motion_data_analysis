{
 "metadata": {
  "language_info": {
   "codemirror_mode": {
    "name": "ipython",
    "version": 3
   },
   "file_extension": ".py",
   "mimetype": "text/x-python",
   "name": "python",
   "nbconvert_exporter": "python",
   "pygments_lexer": "ipython3",
   "version": "3.8.3-final"
  },
  "orig_nbformat": 2,
  "kernelspec": {
   "name": "python3",
   "display_name": "Python 3.8.3 64-bit (conda)",
   "metadata": {
    "interpreter": {
     "hash": "1684057a43a35cb5b3002f49adb9822bc78eb18ff36df5d6d02aa26bbe725bc3"
    }
   }
  }
 },
 "nbformat": 4,
 "nbformat_minor": 2,
 "cells": [
  {
   "source": [
    "### Analysis of the data and information in the .csv file"
   ],
   "cell_type": "markdown",
   "metadata": {}
  },
  {
   "cell_type": "code",
   "execution_count": 2,
   "metadata": {},
   "outputs": [],
   "source": [
    "import pandas as pd\n",
    "import numpy as np\n",
    "\n",
    "import matplotlib.pyplot as plt\n",
    "import seaborn as sns\n",
    "\n",
    "from pathlib import Path"
   ]
  },
  {
   "cell_type": "code",
   "execution_count": null,
   "metadata": {},
   "outputs": [],
   "source": [
    "df1=pd.read_csv('.csv')\n",
    "print(df1.shape)\n",
    "df1[['',\n",
    " '',\n",
    " '']].head()"
   ]
  },
  {
   "cell_type": "code",
   "execution_count": null,
   "metadata": {},
   "outputs": [],
   "source": [
    "df1.columns.values.tolist()"
   ]
  },
  {
   "cell_type": "code",
   "execution_count": 5,
   "metadata": {},
   "outputs": [],
   "source": [
    "# Cleaning and selecting the data\n",
    "df = df1.drop_duplicates()\n",
    "df = df[df['Number of Occupants'] < df['Number of Occupants'].quantile(.999)]\n",
    "df = df[df['Number of Floors'] < df['Number of Floors'].quantile(.999)]\n",
    "df = df[df['Floor Area [ft2]'] < df['Floor Area [ft2]'].quantile(.999)]\n",
    "df = df[df['Number of Remote Sensors'] < df['Number of Remote Sensors'].quantile(.999)]\n",
    "df=df[(df['Country']== 'CA') | (df['Country']=='US')]"
   ]
  },
  {
   "cell_type": "code",
   "execution_count": 6,
   "metadata": {},
   "outputs": [],
   "source": [
    "lista = []\n",
    "# List all 2019 files in directory using pathlib\n",
    "basepath = Path(\"/\")\n",
    "files_in_basepath = (entry for entry in basepath.iterdir() if entry.is_file())\n",
    "for item in files_in_basepath:\n",
    "    lista.append(item.name)"
   ]
  },
  {
   "cell_type": "code",
   "execution_count": 7,
   "metadata": {},
   "outputs": [
    {
     "output_type": "execute_result",
     "data": {
      "text/plain": [
       "94475"
      ]
     },
     "metadata": {},
     "execution_count": 7
    }
   ],
   "source": [
    "lista_FileName = [s.replace('.csv', '') for s in lista] # to have only the name of the file\n",
    "df_in_2019 = df[df['Identifier'].isin(lista_FileName)] #To have only the identifiers that are from 2019"
   ]
  },
  {
   "cell_type": "code",
   "execution_count": null,
   "metadata": {},
   "outputs": [],
   "source": [
    "# --------How many identifiers(2019) has X number of remote sensors----\n",
    "grouped_Number_RS = df_in_2019[['Identifier','Number of Remote Sensors']].groupby('Number of Remote Sensors').count()\n",
    "\n",
    "x_axis= 'Number of Remote Sensors'\n",
    "x_values=[np.arange(1,len(grouped_Number_RS))]\n",
    "y_axis = 'Number of Identifier'\n",
    "y_values = [grouped_Number_RS['Identifier']]\n",
    "\n",
    "plt.figure(figsize=(20, 6))\n",
    "ax = (pd.Series(y_values[0])).plot(kind='bar') # Create the chart\n",
    "ax.set_title(\"How many identifiers(2019) has X number of remote sensors\")\n",
    "ax.set_xlabel(x_axis) # Assign axes names to the graph\n",
    "ax.set_ylabel(y_axis)\n",
    "\n",
    "rects = ax.patches #location of chart bars\n",
    "labels = y_values[0] # height values ​​of each bar (value in y)\n",
    "# Join the value and location of each bar to assign them one by one in the graph with ax.text\n",
    "for rect, label in zip(rects, labels): \n",
    "       height = rect.get_height()\n",
    "       ax.text(rect.get_x() + rect.get_width()/2, height + 5, label, ha='center', va='bottom')"
   ]
  },
  {
   "cell_type": "code",
   "execution_count": null,
   "metadata": {},
   "outputs": [],
   "source": [
    "#-------------------How many Identifiers(2019) with X number of occupants----------\n",
    "grouped_Occupants = df_in_2019[['Identifier','Number of Occupants']].groupby('Number of Occupants').count()\n",
    "\n",
    "x_axis_Occupants= 'Number of Occupants'\n",
    "x_values_Occupants=[np.arange(1,len(grouped_Occupants))]\n",
    "y_axis_Occupants = 'Number of Identifiers'\n",
    "y_value_Occupants = grouped_Occupants['Identifier']\n",
    "y_values_Occupants = [y_value_Occupants]\n",
    "\n",
    "ax_Occupants =grouped_Occupants.plot(kind='bar',figsize=(20, 6))\n",
    "ax_Occupants.set_title(\"How many Identifiers(2019) with X number of occupants\")\n",
    "ax_Occupants.set_xlabel(x_axis_Occupants) \n",
    "ax_Occupants.set_ylabel(y_axis_Occupants)\n",
    "\n",
    "rects_Occupants = ax_Occupants.patches \n",
    "labels_Occupants = y_values_Occupants[0] \n",
    "for rect, label in zip(rects_Occupants, labels_Occupants): \n",
    "       height = rect.get_height()\n",
    "       ax_Occupants.text(rect.get_x() + rect.get_width()/2, height + 5, label, ha='center', va='bottom')"
   ]
  },
  {
   "cell_type": "code",
   "execution_count": null,
   "metadata": {},
   "outputs": [],
   "source": [
    "#----------How many Identifiers of each Country------\n",
    "df_2019_UsCa=df_in_2019[(df_in_2019['Country']== 'CA') | (df_in_2019['Country']=='US')]\n",
    "grouped_Country = df_2019_UsCa[['Identifier','Country']].groupby('Country').count()\n",
    "\n",
    "x_axis_Country= 'Country'\n",
    "x_values_Country=[np.arange(1,len(grouped_Country))]\n",
    "y_axis_Country = 'Number of Identifiers'\n",
    "y_value_Country = grouped_Country['Identifier']\n",
    "y_values_Country = [y_value_Country]\n",
    "\n",
    "ax_Country =grouped_Country.plot(kind='bar',figsize=(9, 6))\n",
    "ax_Country.set_title(\"How many Identifiers of each Country\")\n",
    "ax_Country.set_xlabel(x_axis_Country) \n",
    "ax_Country.set_ylabel(y_axis_Country)\n",
    "\n",
    "rects_Country = ax_Country.patches \n",
    "labels_Country = y_values_Country[0] \n",
    "for rect, label in zip(rects_Country, labels_Country): \n",
    "       height = rect.get_height()\n",
    "       ax_Country.text(rect.get_x() + rect.get_width()/2, height + 5, label, ha='center', va='bottom')"
   ]
  },
  {
   "cell_type": "code",
   "execution_count": null,
   "metadata": {},
   "outputs": [],
   "source": [
    "# ---------------------How many Identifiers in each ProvinceState ---------------\n",
    "df_2019_UsCa=df_in_2019[(df_in_2019['Country']== 'CA') | (df_in_2019['Country']=='US')]\n",
    "grouped_Country_ProvinceState = (df_2019_UsCa[['Identifier','Country','ProvinceState']].groupby(['Country','ProvinceState']).count()).sort_values('Identifier',ascending=False)\n",
    "\n",
    "\n",
    "y_value = grouped_Country_ProvinceState['Identifier']\n",
    "x_axis= 'Country, ProvinceState'\n",
    "x_values=[np.arange(1,len(grouped_Country_ProvinceState))]\n",
    "y_axis = 'Number of Identifier'\n",
    "y_values = [y_value]\n",
    "\n",
    "ax =grouped_Country_ProvinceState.plot(kind='barh',figsize=(8, 15))\n",
    "ax.set_title(\"How many Identifiers in each ProvinceState \")\n",
    "ax.set_xlabel(x_axis) \n",
    "ax.set_ylabel(y_axis)\n",
    "\n",
    "rects = ax.patches \n",
    "labels = y_values[0] \n",
    "for rect, label in zip(rects, labels): \n",
    "       width = rect.get_width()\n",
    "       c=width+220\n",
    "       ax.text(c,rect.get_y()+rect.get_height()/2-0.5, label, ha='center', va='bottom')"
   ]
  },
  {
   "cell_type": "code",
   "execution_count": null,
   "metadata": {},
   "outputs": [],
   "source": [
    "# ----------------Relation beteween number of RM and provincestate-----------\n",
    "new = pd.DataFrame(df_2019_UsCa[\"ProvinceState\"])\n",
    "df_2019_UsCa_p=df_2019_UsCa\n",
    "df_2019_UsCa_p[\"Country_ProvinceState\"]= df_2019_UsCa_p[\"Country\"].str.cat(new, sep =\",\") \n",
    "\n",
    "group_df_2019_UsCa_p = df_2019_UsCa_p[['Identifier','Country_ProvinceState','Number of Remote Sensors']].groupby(['Country_ProvinceState','Number of Remote Sensors']).count()\n",
    "g_df_2019_UsCa=pd.DataFrame(group_df_2019_UsCa_p.to_records())\n",
    "\n",
    "list_provinceState=(g_df_2019_UsCa[g_df_2019_UsCa['Identifier']>500])['Country_ProvinceState'].unique()\n",
    "g_df_2019_UsCa= g_df_2019_UsCa[g_df_2019_UsCa['Country_ProvinceState'].isin(list_provinceState)]\n",
    "\n",
    "r=g_df_2019_UsCa.pivot_table(columns='Number of Remote Sensors', index='Country_ProvinceState', values='Identifier',fill_value=0)\n",
    "\n",
    "fig,axx5=plt.subplots(figsize=(16,10))\n",
    "sns.heatmap(r,cmap='viridis',ax=axx5,annot=True, annot_kws={\"size\": 10})\n",
    "axx5.set_title('Relation beteween number of RS and provincestate')"
   ]
  },
  {
   "cell_type": "code",
   "execution_count": null,
   "metadata": {},
   "outputs": [],
   "source": [
    "# ------------------Relation beteween Floor area and n of RS-------------\n",
    "# There is no relation\n",
    "b=df_in_2019[(df_in_2019['Floor Area [ft2]']>90) & (df_in_2019['Number of Remote Sensors']>0)]\n",
    "a=b[['Identifier','Floor Area [ft2]','Number of Remote Sensors']].groupby(['Floor Area [ft2]','Number of Remote Sensors']).count()\n",
    "pp=pd.DataFrame(a.to_records())\n",
    "r=pp.pivot_table(index='Number of Remote Sensors', columns='Floor Area [ft2]', values='Identifier',fill_value=0)\n",
    "\n",
    "fig,axx=plt.subplots(figsize=(8,8))\n",
    "sns.heatmap(r,cmap='Blues')"
   ]
  }
 ]
}