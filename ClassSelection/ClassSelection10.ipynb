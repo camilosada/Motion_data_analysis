{
 "metadata": {
  "language_info": {
   "codemirror_mode": {
    "name": "ipython",
    "version": 3
   },
   "file_extension": ".py",
   "mimetype": "text/x-python",
   "name": "python",
   "nbconvert_exporter": "python",
   "pygments_lexer": "ipython3",
   "version": "3.8.3-final"
  },
  "orig_nbformat": 2,
  "kernelspec": {
   "name": "python38364bitbasecondadbd63e3006f6496f9e4024d92b65070b",
   "display_name": "Python 3.8.3 64-bit ('base': conda)"
  }
 },
 "nbformat": 4,
 "nbformat_minor": 2,
 "cells": [
  {
   "source": [
    "# fILterless245Days"
   ],
   "cell_type": "markdown",
   "metadata": {}
  },
  {
   "cell_type": "code",
   "execution_count": 1,
   "metadata": {},
   "outputs": [],
   "source": [
    "\n",
    "import dask.dataframe as dd\n",
    "# loading metadata file\n",
    "filePath = '/'\n",
    "df = dd.read_csv(filePath + '.csv').drop_duplicates()\n",
    "\n",
    "# Pre-processing to filter out inconsistent data\n",
    "df = df[df['Number of Occupants'] < df['Number of Occupants'].quantile(.999)]\n",
    "df = df[df['Number of Floors'] < df['Number of Floors'].quantile(.999)]\n",
    "df = df[df['Floor Area [ft2]'] < df['Floor Area [ft2]'].quantile(.999)]\n",
    "df = df[df['Number of Remote Sensors'] < df['Number of Remote Sensors'].quantile(.999)]\n",
    "df = df[(df['Country']=='US') | (df['Country']=='CA')]"
   ]
  },
  {
   "cell_type": "code",
   "execution_count": 2,
   "metadata": {},
   "outputs": [],
   "source": [
    "from pathlib import Path\n",
    "lista = []\n",
    "# List all files in directory using pathlib\n",
    "basepath = Path(\"1/\")\n",
    "files_in_basepath = (entry for entry in basepath.iterdir() if entry.is_file())\n",
    "for item in files_in_basepath:\n",
    "    lista.append(item.name)\n",
    "basepath = Path(\"2/\")\n",
    "files_in_basepath = (entry for entry in basepath.iterdir() if entry.is_file())\n",
    "for item in files_in_basepath:\n",
    "    lista.append(item.name)\n",
    "basepath = Path(\"3/\")\n",
    "files_in_basepath = (entry for entry in basepath.iterdir() if entry.is_file())\n",
    "for item in files_in_basepath:\n",
    "    lista.append(item.name)\n",
    "basepath = Path(\"4/\")\n",
    "files_in_basepath = (entry for entry in basepath.iterdir() if entry.is_file())\n",
    "for item in files_in_basepath:\n",
    "    lista.append(item.name)"
   ]
  },
  {
   "cell_type": "code",
   "execution_count": 4,
   "metadata": {},
   "outputs": [],
   "source": [
    "lista_FileName = [s.replace('.csv', '') for s in lista]  # to have only the name of the file"
   ]
  },
  {
   "cell_type": "code",
   "execution_count": 5,
   "metadata": {},
   "outputs": [],
   "source": [
    "# Create dataset with only Identifiers in 2019 \n",
    "df_in_2019 = df[df.Identifier.isin(lista_FileName)]"
   ]
  },
  {
   "cell_type": "code",
   "execution_count": 6,
   "metadata": {},
   "outputs": [],
   "source": [
    "# Creation of datasets for 1 and 2 occupants\n",
    "df1 = df_in_2019[(df_in_2019['Number of Occupants'] == 1 ) & (df_in_2019['Number of Remote Sensors'] >= 3)]\n",
    "df2 = df_in_2019[(df_in_2019['Number of Occupants'] == 2 ) & (df_in_2019['Number of Remote Sensors'] >= 3)]"
   ]
  },
  {
   "cell_type": "code",
   "execution_count": 7,
   "metadata": {},
   "outputs": [],
   "source": [
    "df2 = df2.sample(frac=(len(df1)/len(df2)), random_state=0)"
   ]
  },
  {
   "cell_type": "code",
   "execution_count": 11,
   "metadata": {},
   "outputs": [],
   "source": [
    "# Take all Identifiers of df2, to after open them\n",
    "a=df2.loc[:,'Identifier'].compute().tolist()\n",
    "lista=[]\n",
    "for i in a:\n",
    "    lista.append(mainPath+i+'.csv')"
   ]
  },
  {
   "cell_type": "code",
   "execution_count": 12,
   "metadata": {},
   "outputs": [],
   "source": [
    "# Read all files in the df2['Identifier'] column\n",
    "ff=dd.read_csv(lista, usecols = use_cols, parse_dates=['DateTime'], include_path_column=True)\n",
    "ff['path']=ff['path'].str.replace(\"/\", '')\n",
    "ff['path']=ff['path'].str.replace('.csv', '')"
   ]
  },
  {
   "cell_type": "code",
   "execution_count": 13,
   "metadata": {},
   "outputs": [],
   "source": [
    "# Manage of columns\n",
    "\n",
    "df_motion = ff.loc[:, ff.columns.str.contains('_Motion')]\n",
    "ff['working_sensors'] = 11-df_motion.isna().sum(axis=1)\n",
    "ff['activation'] = ff.loc[:, ff.columns.str.contains('_Motion')].sum(axis=1) # sumo cantidad de rs en 1\n",
    "ff['dayofweek']=ff['DateTime'].dt.day_name()\n",
    "ff['Time'] = ff['DateTime'].dt.time\n",
    "ff['Month'] = ff['DateTime'].dt.month\n",
    "\n"
   ]
  },
  {
   "cell_type": "code",
   "execution_count": 14,
   "metadata": {},
   "outputs": [],
   "source": [
    "ff_columns = ['path', 'activation', 'dayofweek', 'Time', 'Month','working_sensors']\n",
    "result = dd.merge(df2[['Identifier','Number of Remote Sensors']], ff[ff_columns], left_on='Identifier', right_on='path').drop(['path'],axis=1)\n",
    "result['mean_activation']=result['activation']/(result['working_sensors']) "
   ]
  },
  {
   "cell_type": "code",
   "execution_count": 15,
   "metadata": {},
   "outputs": [],
   "source": [
    "aa=result[['Identifier','dayofweek','Time','mean_activation']].groupby(['Identifier','Time','dayofweek']).mean()\n",
    "pp=dd.from_array(aa.to_records()) "
   ]
  },
  {
   "cell_type": "code",
   "execution_count": 16,
   "metadata": {},
   "outputs": [],
   "source": [
    "pp[\"TimeSTR\"]=pp[\"Time\"].apply((lambda x: x.strftime('%H:%M')), meta='str')\n",
    "aa2 = pp.copy()\n",
    "new = aa2[\"TimeSTR\"]\n",
    "  \n",
    "# concatenating team with name column \n",
    "# overwriting name column \n",
    "aa2[\"dayofweek\"]= aa2[\"dayofweek\"].str.cat(new, sep =\", \") "
   ]
  },
  {
   "cell_type": "code",
   "execution_count": 17,
   "metadata": {},
   "outputs": [],
   "source": [
    "\n",
    "bb=aa2.drop(['Time'],axis=1)\n",
    "bb = bb.categorize(columns='dayofweek')\n",
    "table = dd.pivot_table(bb, values='mean_activation', index='Identifier',\n",
    "                    columns='dayofweek')"
   ]
  },
  {
   "cell_type": "code",
   "execution_count": 18,
   "metadata": {},
   "outputs": [],
   "source": [
    "t=dd.from_array(table.to_records())\n",
    "result_f = dd.merge(df2,t, on='Identifier').drop(['filename'],axis=1)"
   ]
  },
  {
   "cell_type": "code",
   "execution_count": 19,
   "metadata": {},
   "outputs": [],
   "source": [
    "(result_f.compute()).to_csv('1.csv')\n"
   ]
  },
  {
   "cell_type": "code",
   "execution_count": null,
   "metadata": {},
   "outputs": [],
   "source": []
  },
  {
   "cell_type": "code",
   "execution_count": null,
   "metadata": {},
   "outputs": [],
   "source": []
  }
 ]
}